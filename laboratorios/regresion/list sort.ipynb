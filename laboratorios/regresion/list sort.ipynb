{
 "cells": [
  {
   "cell_type": "code",
   "execution_count": 2,
   "metadata": {},
   "outputs": [],
   "source": [
    "nombres = ['jorge', 'ana', 'raul', 'esteban', 'julio', 'maria']\n",
    "def largo(cadena):\n",
    "    return len(cadena)\n",
    "def cont_letra(cadena, letra):\n",
    "    n = 0\n",
    "    for l in cadena:\n",
    "        if l == letra:\n",
    "            n +=1\n",
    "    return n\n"
   ]
  },
  {
   "cell_type": "code",
   "execution_count": 6,
   "metadata": {},
   "outputs": [
    {
     "name": "stdout",
     "output_type": "stream",
     "text": [
      "['esteban', 'jorge', 'julio', 'maria', 'raul', 'ana']\n"
     ]
    }
   ],
   "source": [
    "nombres_l = nombres.copy()\n",
    "nombres_l.sort(reverse=True, key=largo)\n",
    "print(nombres_l)"
   ]
  },
  {
   "cell_type": "code",
   "execution_count": 8,
   "metadata": {},
   "outputs": [
    {
     "name": "stdout",
     "output_type": "stream",
     "text": [
      "['ana', 'maria', 'raul', 'esteban', 'jorge', 'julio']\n"
     ]
    }
   ],
   "source": [
    "nombres_a = nombres.copy()\n",
    "nombres_a.sort(reverse=True, key=lambda nombre: cont_letra(nombre, 'a'))\n",
    "print(nombres_a)"
   ]
  }
 ],
 "metadata": {
  "kernelspec": {
   "display_name": "Python 3",
   "language": "python",
   "name": "python3"
  },
  "language_info": {
   "codemirror_mode": {
    "name": "ipython",
    "version": 3
   },
   "file_extension": ".py",
   "mimetype": "text/x-python",
   "name": "python",
   "nbconvert_exporter": "python",
   "pygments_lexer": "ipython3",
   "version": "3.6.9"
  }
 },
 "nbformat": 4,
 "nbformat_minor": 4
}
