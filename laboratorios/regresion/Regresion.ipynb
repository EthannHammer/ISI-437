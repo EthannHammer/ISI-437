{
 "cells": [
  {
   "cell_type": "markdown",
   "metadata": {},
   "source": [
    "# Regresión\n",
    "En este notebook exploraremos los conceptos básicos e implementación de la regresión lineal, para ajuste de curvas y la regresión logística para clasificación binaria.\n",
    "\n",
    "## Regresión Lineal\n",
    "Como ya se exploró anteriormente, podemos definir la regresión lineal como un ajuste de curvas en el cual nuestra hipótesis es una combinación lineal de las entradas y los parámetros.\n",
    "\n",
    "### Hipótesis\n",
    "Sea $\\mathbf{x}$ un vector de entrada con $m$ elementos donde cada elemento se denota por $x_1, x_2, \\dots x_m$, el vector $\\mathbf{x}$ se corresponde con un vector de salida $\\mathbf{y}$ con la misma cantidad de elementos. Cada elemento $x_i$ cuenta con su correspondiente valor de salida $y_i$. Sea $\\mathbf{w}$ un vector que representa a los coeficientes o parámetros de la regresión lineal, y un elemento $b$ que se denomina el *bias* estos parámetros definen la naturaleza del hiperplano que representa a la solución. La función de hipótesis para la regresión lineal se define de la siguiente forma:\n",
    "\n",
    "\\begin{equation}\n",
    "h(\\mathbf{x}, \\mathbf{w}, b) = w_1 x_1 + w_2 x_2 \\dots w_m x_m + b\n",
    "\\end{equation}\n",
    "\n",
    "### Función de costo\n",
    "La función de costo está definida por el **error cuadrático medio** o MSE denotada por la siguiente ecuación:\n",
    "\\begin{equation}\n",
    "J(\\mathbf{w}, b) = \\frac{1}{m} \\sum_{i=1}^m(h(x_i)-y_i)^2\n",
    "\\end{equation}\n",
    "\n",
    "### Descenso de gradiente\n",
    "La forma de encontrar la solución con error mínimo se denomina **descenso de gradiente** y está definido de la siguiente forma:\n",
    "\\begin{equation}\n",
    "Repetir: \\\\\n",
    "    \\mathbf{w} := \\mathbf{w} - \\alpha \\frac{\\partial{J}}{\\partial{\\mathbf{w}}}\n",
    "\\end{equation}\n",
    "\n",
    "$\\alpha$ es el *learning rate*\n"
   ]
  },
  {
   "cell_type": "code",
   "execution_count": 9,
   "metadata": {},
   "outputs": [],
   "source": [
    "from sklearn.datasets import load_boston\n",
    "import random\n",
    "X, y = load_boston(return_X_y=True)\n",
    "X = X.tolist()\n",
    "y = y.tolist()"
   ]
  },
  {
   "cell_type": "code",
   "execution_count": 16,
   "metadata": {},
   "outputs": [],
   "source": [
    "w = [random.random() for x in X[0]]\n",
    "b = random.random()"
   ]
  },
  {
   "cell_type": "code",
   "execution_count": 18,
   "metadata": {},
   "outputs": [],
   "source": [
    "def h(x,w,b):\n",
    "    res = 0\n",
    "    for i in range(len(x)):\n",
    "        res += w[i]*x[i]\n",
    "    res +=b\n",
    "    return res\n",
    "def cost(x, y, hyp, w, b):\n",
    "    m = len(x)\n",
    "    res = 0\n",
    "    for i in range(len(x)):\n",
    "        res += (hyp(x[i], w, b) - y[i])**2\n",
    "    return res/(2*m)\n",
    "    "
   ]
  },
  {
   "cell_type": "code",
   "execution_count": 38,
   "metadata": {},
   "outputs": [],
   "source": [
    "def d_cost_w(x, y, hyp, w, b):\n",
    "    # w\n",
    "    m = len(x)\n",
    "    deriv = []\n",
    "    for j in range(len(w)):\n",
    "        res = 0\n",
    "        for i in range(len(x)):\n",
    "            res += (hyp(x[i],w,b) - y[i])*x[i][j]\n",
    "        res /= m\n",
    "        \n",
    "        deriv.append(res)\n",
    "    return deriv\n",
    "        \n",
    "def d_cost_b(x, y, hyp, w, b):\n",
    "    m = len(x)\n",
    "    res = 0\n",
    "    for i in range(len(x)):\n",
    "        res += (hyp(x[i],w,b) - y[i])\n",
    "    res /= m\n",
    "    return res"
   ]
  },
  {
   "cell_type": "code",
   "execution_count": 51,
   "metadata": {},
   "outputs": [
    {
     "name": "stdout",
     "output_type": "stream",
     "text": [
      "[0.00632, 18.0, 2.31, 0.0, 0.538, 6.575, 65.2, 4.09, 1.0, 296.0, 15.3, 396.9, 4.98]\n"
     ]
    }
   ],
   "source": [
    "print(X[0])"
   ]
  },
  {
   "cell_type": "code",
   "execution_count": 50,
   "metadata": {},
   "outputs": [
    {
     "name": "stdout",
     "output_type": "stream",
     "text": [
      "2324083087.7331433\n",
      "10505949589436.156\n",
      "4.666243776251296e+16\n",
      "2.071659668790065e+20\n",
      "9.197400680371035e+23\n",
      "4.083303871351069e+27\n",
      "1.8128350598833118e+31\n",
      "8.048313467353688e+34\n",
      "3.573151860420973e+38\n",
      "1.5863465394852303e+42\n",
      "7.042788668490259e+45\n",
      "3.1267362454807814e+49\n",
      "1.388154608776432e+53\n",
      "6.162890204290209e+56\n",
      "2.736094051052e+60\n",
      "1.2147240025452182e+64\n",
      "5.392922811963074e+67\n",
      "2.3942571641667064e+71\n",
      "1.0629611377799346e+75\n",
      "4.719152133449532e+78\n",
      "2.09512804063134e+82\n",
      "9.301589316280606e+85\n",
      "4.129559727656266e+89\n",
      "1.833370939569656e+93\n",
      "8.139485135782791e+96\n",
      "3.613628690502741e+100\n",
      "1.6043167466966185e+104\n",
      "7.12256970533727e+107\n",
      "3.1621560587612216e+111\n",
      "1.4038796885999468e+115\n",
      "6.232703710504366e+118\n",
      "2.7670886514267665e+122\n",
      "1.2284844524135498e+126\n",
      "5.454014091827753e+129\n",
      "2.421379420424441e+133\n",
      "1.07500241087389e+137\n",
      "4.772610907802708e+140\n",
      "2.1188617482970078e+144\n",
      "9.406958151682296e+147\n",
      "4.1763395718774196e+151\n",
      "1.8541394506480448e+155\n",
      "8.231689601102043e+158\n",
      "3.6545640439940135e+162\n",
      "1.6224905212492258e+166\n",
      "7.20325450547197e+169\n",
      "3.197977109330183e+173\n",
      "1.4197829028574271e+177\n",
      "6.303308067356595e+180\n",
      "2.7984343600729064e+184\n",
      "1.2424007812965439e+188\n",
      "5.515797416545599e+191\n",
      "2.4488089188596133e+195\n",
      "1.0871800880681941e+199\n",
      "4.826675265632396e+202\n",
      "2.142864312504425e+206\n",
      "9.513520610140827e+209\n",
      "4.2236493403446514e+213\n",
      "1.8751432283836388e+217\n",
      "8.32493856288296e+220\n",
      "3.6959631150691188e+224\n",
      "1.6408701691632557e+228\n",
      "7.28485330676653e+231\n",
      "3.234203942422176e+235\n",
      "1.4358662694639704e+239\n",
      "6.374712233639491e+242\n",
      "2.8301351543611105e+246\n",
      "1.2564747549988815e+250\n",
      "5.578280625632866e+253\n",
      "2.4765491399258986e+257\n",
      "1.099495714554856e+261\n",
      "4.881352067016386e+264\n",
      "2.1671387788730134e+268\n",
      "9.621290213073766e+271\n",
      "4.2714950360644795e+275\n",
      "1.8963849378881185e+279\n",
      "8.419243853230192e+282\n",
      "3.7378311567425393e+286\n",
      "1.659458022581787e+290\n",
      "7.367376463068863e+293\n",
      "3.2708411547605654e+297\n",
      "1.4521318291937926e+301\n",
      "6.446925269631619e+304\n"
     ]
    },
    {
     "ename": "OverflowError",
     "evalue": "(34, 'Numerical result out of range')",
     "output_type": "error",
     "traceback": [
      "\u001b[0;31m---------------------------------------------------------------------------\u001b[0m",
      "\u001b[0;31mOverflowError\u001b[0m                             Traceback (most recent call last)",
      "\u001b[0;32m<ipython-input-50-9a0a8b0c80a9>\u001b[0m in \u001b[0;36m<module>\u001b[0;34m\u001b[0m\n\u001b[1;32m     15\u001b[0m         \u001b[0mw\u001b[0m\u001b[0;34m[\u001b[0m\u001b[0mj\u001b[0m\u001b[0;34m]\u001b[0m \u001b[0;34m=\u001b[0m \u001b[0mw\u001b[0m\u001b[0;34m[\u001b[0m\u001b[0mj\u001b[0m\u001b[0;34m]\u001b[0m \u001b[0;34m-\u001b[0m \u001b[0malpha\u001b[0m \u001b[0;34m*\u001b[0m \u001b[0md_cost_w\u001b[0m\u001b[0;34m(\u001b[0m\u001b[0mX\u001b[0m\u001b[0;34m,\u001b[0m\u001b[0my\u001b[0m\u001b[0;34m,\u001b[0m\u001b[0mh\u001b[0m\u001b[0;34m,\u001b[0m\u001b[0mw\u001b[0m\u001b[0;34m,\u001b[0m\u001b[0mb\u001b[0m\u001b[0;34m)\u001b[0m\u001b[0;34m[\u001b[0m\u001b[0mj\u001b[0m\u001b[0;34m]\u001b[0m\u001b[0;34m\u001b[0m\u001b[0;34m\u001b[0m\u001b[0m\n\u001b[1;32m     16\u001b[0m     \u001b[0mb\u001b[0m \u001b[0;34m=\u001b[0m \u001b[0mb\u001b[0m \u001b[0;34m-\u001b[0m \u001b[0malpha\u001b[0m \u001b[0;34m*\u001b[0m \u001b[0md_cost_b\u001b[0m\u001b[0;34m(\u001b[0m\u001b[0mX\u001b[0m\u001b[0;34m,\u001b[0m\u001b[0my\u001b[0m\u001b[0;34m,\u001b[0m\u001b[0mh\u001b[0m\u001b[0;34m,\u001b[0m\u001b[0mw\u001b[0m\u001b[0;34m,\u001b[0m\u001b[0mb\u001b[0m\u001b[0;34m)\u001b[0m\u001b[0;34m\u001b[0m\u001b[0;34m\u001b[0m\u001b[0m\n\u001b[0;32m---> 17\u001b[0;31m     \u001b[0mprint\u001b[0m\u001b[0;34m(\u001b[0m\u001b[0mcost\u001b[0m\u001b[0;34m(\u001b[0m\u001b[0mX\u001b[0m\u001b[0;34m,\u001b[0m\u001b[0my\u001b[0m\u001b[0;34m,\u001b[0m\u001b[0mh\u001b[0m\u001b[0;34m,\u001b[0m\u001b[0mw\u001b[0m\u001b[0;34m,\u001b[0m\u001b[0mb\u001b[0m\u001b[0;34m)\u001b[0m\u001b[0;34m)\u001b[0m\u001b[0;34m\u001b[0m\u001b[0;34m\u001b[0m\u001b[0m\n\u001b[0m\u001b[1;32m     18\u001b[0m \u001b[0;34m\u001b[0m\u001b[0m\n",
      "\u001b[0;32m<ipython-input-18-c93a4ed4a5e6>\u001b[0m in \u001b[0;36mcost\u001b[0;34m(x, y, hyp, w, b)\u001b[0m\n\u001b[1;32m      9\u001b[0m     \u001b[0mres\u001b[0m \u001b[0;34m=\u001b[0m \u001b[0;36m0\u001b[0m\u001b[0;34m\u001b[0m\u001b[0;34m\u001b[0m\u001b[0m\n\u001b[1;32m     10\u001b[0m     \u001b[0;32mfor\u001b[0m \u001b[0mi\u001b[0m \u001b[0;32min\u001b[0m \u001b[0mrange\u001b[0m\u001b[0;34m(\u001b[0m\u001b[0mlen\u001b[0m\u001b[0;34m(\u001b[0m\u001b[0mx\u001b[0m\u001b[0;34m)\u001b[0m\u001b[0;34m)\u001b[0m\u001b[0;34m:\u001b[0m\u001b[0;34m\u001b[0m\u001b[0;34m\u001b[0m\u001b[0m\n\u001b[0;32m---> 11\u001b[0;31m         \u001b[0mres\u001b[0m \u001b[0;34m+=\u001b[0m \u001b[0;34m(\u001b[0m\u001b[0mhyp\u001b[0m\u001b[0;34m(\u001b[0m\u001b[0mx\u001b[0m\u001b[0;34m[\u001b[0m\u001b[0mi\u001b[0m\u001b[0;34m]\u001b[0m\u001b[0;34m,\u001b[0m \u001b[0mw\u001b[0m\u001b[0;34m,\u001b[0m \u001b[0mb\u001b[0m\u001b[0;34m)\u001b[0m \u001b[0;34m-\u001b[0m \u001b[0my\u001b[0m\u001b[0;34m[\u001b[0m\u001b[0mi\u001b[0m\u001b[0;34m]\u001b[0m\u001b[0;34m)\u001b[0m\u001b[0;34m**\u001b[0m\u001b[0;36m2\u001b[0m\u001b[0;34m\u001b[0m\u001b[0;34m\u001b[0m\u001b[0m\n\u001b[0m\u001b[1;32m     12\u001b[0m     \u001b[0;32mreturn\u001b[0m \u001b[0mres\u001b[0m\u001b[0;34m/\u001b[0m\u001b[0mm\u001b[0m\u001b[0;34m\u001b[0m\u001b[0;34m\u001b[0m\u001b[0m\n\u001b[1;32m     13\u001b[0m \u001b[0;34m\u001b[0m\u001b[0m\n",
      "\u001b[0;31mOverflowError\u001b[0m: (34, 'Numerical result out of range')"
     ]
    }
   ],
   "source": [
    "from sklearn.datasets import load_boston\n",
    "import random\n",
    "X, y = load_boston(return_X_y=True)\n",
    "X = X.tolist()\n",
    "y = y.tolist()\n",
    "w = [random.random() for x in X[0]]\n",
    "b = random.random()\n",
    "# entrenamiento\n",
    "# repetir hasta la convergencia\n",
    "alpha = 0.0001\n",
    "iters = 1000\n",
    "\n",
    "for i in range(iters):\n",
    "    for j in range(len(w)):\n",
    "        w[j] = w[j] - alpha * d_cost_w(X,y,h,w,b)[j]\n",
    "    b = b - alpha * d_cost_b(X,y,h,w,b)\n",
    "    print(cost(X,y,h,w,b))\n",
    "\n"
   ]
  },
  {
   "cell_type": "code",
   "execution_count": 49,
   "metadata": {},
   "outputs": [
    {
     "name": "stdout",
     "output_type": "stream",
     "text": [
      "[-0.13041028099047797, 0.11300622876816202, 0.2438671615392592, 0.8457186779237458, 0.7326673183097852, -0.059807872715958, -2.532970620988835, 0.7345899001357766, 0.6421357073257004, -7.657834787537038, 6.164333509739006, 98.15683814291361, -36.732057678560835]\n"
     ]
    }
   ],
   "source": [
    "w = [random.random() for x in X[0]]\n",
    "b = random.random()\n",
    "alpha = 0.0001\n",
    "for j in range(len(w)):\n",
    "        w[j] = w[j] - alpha * d_cost_w(X,y,h,w,b)[j]\n",
    "print(w)"
   ]
  }
 ],
 "metadata": {
  "kernelspec": {
   "display_name": "Python 3",
   "language": "python",
   "name": "python3"
  },
  "language_info": {
   "codemirror_mode": {
    "name": "ipython",
    "version": 3
   },
   "file_extension": ".py",
   "mimetype": "text/x-python",
   "name": "python",
   "nbconvert_exporter": "python",
   "pygments_lexer": "ipython3",
   "version": "3.6.9"
  }
 },
 "nbformat": 4,
 "nbformat_minor": 4
}
