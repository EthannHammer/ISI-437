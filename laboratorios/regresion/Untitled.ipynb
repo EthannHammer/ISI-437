{
 "cells": [
  {
   "cell_type": "markdown",
   "metadata": {},
   "source": [
    "# Regresión\n",
    "En este notebook exploraremos los conceptos básicos e implementación de la regresión lineal, para ajuste de curvas y la regresión logística para clasificación binaria.\n",
    "\n",
    "## Regresión Lineal\n",
    "Como ya se exploró anteriormente, podemos definir la regresión lineal como un ajuste de curvas en el cual nuestra hipótesis es una combinación lineal de las entradas y los parámetros.\n",
    "\n",
    "### Hipótesis\n",
    "Sea $\\mathbf{x}$ un vector de entrada con $n$ elementos donde cada elemento se denota por $x_1, x_2, \\dots x_n$, el vector $\\mathbf{x}$ se corresponde con un vector de salida $y$ con la misma cantidad de elementos. Cada elemento $x_i$ cuenta con su correspondiente valor de salida $y_i$. Sea $\\mathbf{w}$ un vector que representa a los coeficientes o parámetros de la regresión lineal, estos parámetros definen la naturaleza del hiperplano que representa a la solución. La función de hipótesis para la regresión lineal se define de la siguiente forma:\n",
    "\n",
    "\\begin{equation}\n",
    "h(\\mathbf{x}, \\mathbf{w}) = w_0 + w_1 x_1 + w_2 x_2 \\dots w_n x_n\n",
    "\\end{equation}\n",
    "\n",
    "### Función de costo\n",
    "La función de costo está definida por el **error cuadrático medio** o MSE \n"
   ]
  },
  {
   "cell_type": "code",
   "execution_count": null,
   "metadata": {},
   "outputs": [],
   "source": []
  }
 ],
 "metadata": {
  "kernelspec": {
   "display_name": "Python 3",
   "language": "python",
   "name": "python3"
  },
  "language_info": {
   "codemirror_mode": {
    "name": "ipython",
    "version": 3
   },
   "file_extension": ".py",
   "mimetype": "text/x-python",
   "name": "python",
   "nbconvert_exporter": "python",
   "pygments_lexer": "ipython3",
   "version": "3.6.9"
  }
 },
 "nbformat": 4,
 "nbformat_minor": 4
}
