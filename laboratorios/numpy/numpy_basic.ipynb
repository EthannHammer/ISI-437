{
  "nbformat": 4,
  "nbformat_minor": 0,
  "metadata": {
    "colab": {
      "name": "numpy_basic.ipynb",
      "provenance": []
    },
    "kernelspec": {
      "display_name": "Python 2",
      "language": "python",
      "name": "python2"
    }
  },
  "cells": [
    {
      "cell_type": "markdown",
      "metadata": {
        "id": "auOWfm3eZtOJ",
        "colab_type": "text"
      },
      "source": [
        "# Introducción a Numpy\n",
        "Numpy es una librería de cálculo numérico y matricial para python.\n",
        "Contiene muchas funciones para la manipulación de matrices y arrays multidimensionales. Las funciones de numpy estan optimizadas para una ejecución más veloz en el procesador.\n",
        "\n",
        "Es recomendable redefinir las operacioens matriciales para aprovechar los algoritmos optimizados de numpy. Esta operación se conoce como **vectorizar** el código."
      ]
    },
    {
      "cell_type": "code",
      "metadata": {
        "id": "PHYVTaOdZtOM",
        "colab_type": "code",
        "colab": {}
      },
      "source": [
        "# importamos la librería como un alias\n",
        "import numpy as np"
      ],
      "execution_count": 0,
      "outputs": []
    },
    {
      "cell_type": "code",
      "metadata": {
        "id": "xijgHkZvOVnd",
        "colab_type": "code",
        "colab": {
          "base_uri": "https://localhost:8080/",
          "height": 34
        },
        "outputId": "86438931-afb7-4e05-8e88-4857df1bf9e3"
      },
      "source": [
        "print('hola amigos de sistemas')"
      ],
      "execution_count": 2,
      "outputs": [
        {
          "output_type": "stream",
          "text": [
            "hola amigos de sistemas\n"
          ],
          "name": "stdout"
        }
      ]
    },
    {
      "cell_type": "markdown",
      "metadata": {
        "id": "9kCgpUyOZtOU",
        "colab_type": "text"
      },
      "source": [
        "## Arrays\n",
        "\n",
        "Los arrays de numpy se pueden inicializar con listas comunes de python.\n",
        "Las listas deben contener elementos del **mismo tipo**."
      ]
    },
    {
      "cell_type": "code",
      "metadata": {
        "id": "Wr0n3sUoZtOV",
        "colab_type": "code",
        "outputId": "6b8427a7-ba89-461b-84c7-458a9f3358a2",
        "colab": {
          "base_uri": "https://localhost:8080/",
          "height": 87
        }
      },
      "source": [
        "a = np.array([1, 2, 3])\n",
        "print(type(a))\n",
        "# para imprimir las dimensiones de la matriz\n",
        "print(a.shape)\n",
        "print(a[0], a[1], a[2])\n",
        "a[0] = 5\n",
        "print(a)"
      ],
      "execution_count": 3,
      "outputs": [
        {
          "output_type": "stream",
          "text": [
            "<type 'numpy.ndarray'>\n",
            "(3,)\n",
            "(1, 2, 3)\n",
            "[5 2 3]\n"
          ],
          "name": "stdout"
        }
      ]
    },
    {
      "cell_type": "code",
      "metadata": {
        "id": "Tta799dhZtOb",
        "colab_type": "code",
        "colab": {}
      },
      "source": [
        "b = np.array([[1, 2, 3], [4, 5, 6]])\n",
        "print(b.shape)\n",
        "print(b[0, 0], b[0, 1], b[1, 0])"
      ],
      "execution_count": 0,
      "outputs": []
    },
    {
      "cell_type": "markdown",
      "metadata": {
        "id": "H9nOXftkZtOe",
        "colab_type": "text"
      },
      "source": [
        "## Creación de matrices especiales (contenedores)\n"
      ]
    },
    {
      "cell_type": "code",
      "metadata": {
        "id": "K5_4oxCXZtOg",
        "colab_type": "code",
        "outputId": "86f3280e-9e57-4497-d7bd-452bbb7c7cfb",
        "colab": {
          "base_uri": "https://localhost:8080/",
          "height": 52
        }
      },
      "source": [
        "# matriz llena de ceros\n",
        "a = np.zeros((2, 2))\n",
        "print(a)"
      ],
      "execution_count": 0,
      "outputs": [
        {
          "output_type": "stream",
          "text": [
            "[[0. 0.]\n",
            " [0. 0.]]\n"
          ],
          "name": "stdout"
        }
      ]
    },
    {
      "cell_type": "code",
      "metadata": {
        "id": "V67YBDyUZtOk",
        "colab_type": "code",
        "outputId": "74df4fbe-0876-4c6e-b939-145a260f97af",
        "colab": {}
      },
      "source": [
        "# matriz llena de unos\n",
        "b = np.ones((1, 2))*7\n",
        "print(b)"
      ],
      "execution_count": 0,
      "outputs": [
        {
          "output_type": "stream",
          "text": [
            "[[7. 7.]]\n"
          ],
          "name": "stdout"
        }
      ]
    },
    {
      "cell_type": "code",
      "metadata": {
        "id": "fBAinMGbZtOo",
        "colab_type": "code",
        "outputId": "03dcb7e4-1ae0-4fd0-c9b7-718fcf00daeb",
        "colab": {}
      },
      "source": [
        "# matriz llena de valores\n",
        "c = np.full((2, 2), 7)\n",
        "print(c)"
      ],
      "execution_count": 0,
      "outputs": [
        {
          "output_type": "stream",
          "text": [
            "[[7 7]\n",
            " [7 7]]\n"
          ],
          "name": "stdout"
        }
      ]
    },
    {
      "cell_type": "code",
      "metadata": {
        "id": "F1SUoO1WZtOq",
        "colab_type": "code",
        "outputId": "7e46e5ff-785e-46ac-fac3-f8a2a682b0a6",
        "colab": {}
      },
      "source": [
        "# matriz identidad\n",
        "d = np.eye(2) * 8\n",
        "print(d)"
      ],
      "execution_count": 0,
      "outputs": [
        {
          "output_type": "stream",
          "text": [
            "[[8. 0.]\n",
            " [0. 8.]]\n"
          ],
          "name": "stdout"
        }
      ]
    },
    {
      "cell_type": "code",
      "metadata": {
        "id": "rJpn0hTxZtOu",
        "colab_type": "code",
        "outputId": "ec849a09-6a8a-404c-dfd8-9738694f664c",
        "colab": {}
      },
      "source": [
        "# matriz con valores aleatorios\n",
        "e = np.random.random((2, 2))\n",
        "print(e)"
      ],
      "execution_count": 0,
      "outputs": [
        {
          "output_type": "stream",
          "text": [
            "[[0.17867634 0.02870848]\n",
            " [0.22072068 0.29577043]]\n"
          ],
          "name": "stdout"
        }
      ]
    },
    {
      "cell_type": "markdown",
      "metadata": {
        "id": "o-3dalpNZtOx",
        "colab_type": "text"
      },
      "source": [
        "## Array indexing\n",
        "Una de las funcionalidades más interesantes de numpy es la indexación de arrays multidimensionales."
      ]
    },
    {
      "cell_type": "code",
      "metadata": {
        "id": "iE9uG2FnZtOy",
        "colab_type": "code",
        "outputId": "2e29358d-0f07-4de0-d03e-8e9fca84bcc4",
        "colab": {}
      },
      "source": [
        "a = np.array([[1, 2, 3, 4], [5, 6, 7, 8], [9, 10, 11, 12]])\n",
        "print(a)\n",
        "print(a.shape)\n",
        "# acceso a un elemento \n",
        "print(a[2, 3])"
      ],
      "execution_count": 0,
      "outputs": [
        {
          "output_type": "stream",
          "text": [
            "[[ 1  2  3  4]\n",
            " [ 5  6  7  8]\n",
            " [ 9 10 11 12]]\n",
            "(3, 4)\n",
            "12\n"
          ],
          "name": "stdout"
        }
      ]
    },
    {
      "cell_type": "code",
      "metadata": {
        "id": "4JLpuX7VZtO0",
        "colab_type": "code",
        "outputId": "13a0e674-4648-43e0-cba8-79cac71dd906",
        "colab": {}
      },
      "source": [
        "# acceso mediante rangos\n",
        "b = a[-2:, 1:3]\n",
        "print(b)"
      ],
      "execution_count": 0,
      "outputs": [
        {
          "output_type": "stream",
          "text": [
            "[[ 6  7]\n",
            " [10 11]]\n"
          ],
          "name": "stdout"
        }
      ]
    },
    {
      "cell_type": "code",
      "metadata": {
        "id": "VIS4w4eQZtO3",
        "colab_type": "code",
        "outputId": "02e14e49-4c05-41d0-f33d-c41b48fe477b",
        "colab": {}
      },
      "source": [
        "b[0, 0] = 77\n",
        "print(a[0, 1])"
      ],
      "execution_count": 0,
      "outputs": [
        {
          "output_type": "stream",
          "text": [
            "77\n"
          ],
          "name": "stdout"
        }
      ]
    },
    {
      "cell_type": "code",
      "metadata": {
        "id": "1c2-Bw1ZZtO5",
        "colab_type": "code",
        "outputId": "6583cc33-8a99-4888-88c1-0150d0f908c4",
        "colab": {}
      },
      "source": [
        "# extraccion de filas y rangos de filas\n",
        "a = np.array([[1, 2, 3, 4], [5, 6, 7, 8], [9, 10, 11, 12]])\n",
        "row_r1 = a[1, :]\n",
        "row_r2 = a[1:2, :]\n",
        "print(row_r1, row_r1.shape)\n",
        "print(row_r2, row_r2.shape)"
      ],
      "execution_count": 0,
      "outputs": [
        {
          "output_type": "stream",
          "text": [
            "(array([5, 6, 7, 8]), (4,))\n",
            "(array([[5, 6, 7, 8]]), (1, 4))\n"
          ],
          "name": "stdout"
        }
      ]
    },
    {
      "cell_type": "code",
      "metadata": {
        "id": "70tAiNbfZtPD",
        "colab_type": "code",
        "outputId": "307d81cd-7a11-4164-e5a3-f5eeadce8edd",
        "colab": {}
      },
      "source": [
        "# extracción de columnas y rangos de columnas\n",
        "col_r1 = a[:, 2]\n",
        "col_r2 = a[:, 1:2]\n",
        "print(col_r1, col_r1.shape)\n",
        "print(col_r2, col_r2.shape)"
      ],
      "execution_count": 0,
      "outputs": [
        {
          "output_type": "stream",
          "text": [
            "(array([ 3,  7, 11]), (3,))\n",
            "(array([[ 2],\n",
            "       [ 6],\n",
            "       [10]]), (3, 1))\n"
          ],
          "name": "stdout"
        }
      ]
    },
    {
      "cell_type": "markdown",
      "metadata": {
        "id": "KFi2ylSWZtPG",
        "colab_type": "text"
      },
      "source": [
        "## Array math\n",
        "Numpy ofrece numerosas funciones para realizar operaciones matemáticas con arrays multidimensionales."
      ]
    },
    {
      "cell_type": "code",
      "metadata": {
        "id": "4X2cl3CyZtPH",
        "colab_type": "code",
        "outputId": "54e64cc1-97d0-4070-8d88-ecaaa11b80b2",
        "colab": {}
      },
      "source": [
        "# element wise addition\n",
        "x = np.array([[1, 2], [3, 4]], dtype=np.float64)\n",
        "y = np.array([[5, 6], [7, 8]], dtype=np.float64)\n",
        "print(x + y)\n",
        "print(np.add(x, y))"
      ],
      "execution_count": 0,
      "outputs": [
        {
          "output_type": "stream",
          "text": [
            "[[ 6.  8.]\n",
            " [10. 12.]]\n",
            "[[ 6.  8.]\n",
            " [10. 12.]]\n"
          ],
          "name": "stdout"
        }
      ]
    },
    {
      "cell_type": "code",
      "metadata": {
        "id": "szXfbuBaZtPJ",
        "colab_type": "code",
        "outputId": "03d1f17b-b811-4b85-af4f-d096a89eb671",
        "colab": {}
      },
      "source": [
        "# element wise substraction\n",
        "print(x - y)\n",
        "print(np.subtract(x, y))"
      ],
      "execution_count": 0,
      "outputs": [
        {
          "output_type": "stream",
          "text": [
            "[[-4. -4.]\n",
            " [-4. -4.]]\n",
            "[[-4. -4.]\n",
            " [-4. -4.]]\n"
          ],
          "name": "stdout"
        }
      ]
    },
    {
      "cell_type": "code",
      "metadata": {
        "id": "8U4f1U0jZtPL",
        "colab_type": "code",
        "outputId": "b0c14b41-0477-4233-d64c-8162ffda3d42",
        "colab": {}
      },
      "source": [
        "# element wise multiplication\n",
        "print(x * y)\n",
        "print(np.multiply(x, y))"
      ],
      "execution_count": 0,
      "outputs": [
        {
          "output_type": "stream",
          "text": [
            "[[ 5. 12.]\n",
            " [21. 32.]]\n",
            "[[ 5. 12.]\n",
            " [21. 32.]]\n"
          ],
          "name": "stdout"
        }
      ]
    },
    {
      "cell_type": "code",
      "metadata": {
        "id": "eYjZ4RGSZtPO",
        "colab_type": "code",
        "outputId": "434093d4-5f36-421c-e99a-5f91e1987b02",
        "colab": {}
      },
      "source": [
        "\n",
        "print(x / y)\n",
        "print(np.divide(x, y))"
      ],
      "execution_count": 0,
      "outputs": [
        {
          "output_type": "stream",
          "text": [
            "[[0.2        0.33333333]\n",
            " [0.42857143 0.5       ]]\n",
            "[[0.2        0.33333333]\n",
            " [0.42857143 0.5       ]]\n"
          ],
          "name": "stdout"
        }
      ]
    },
    {
      "cell_type": "code",
      "metadata": {
        "id": "suaX-gEIZtPQ",
        "colab_type": "code",
        "outputId": "43bc7d64-b8fe-4d15-b8db-311169d5178f",
        "colab": {}
      },
      "source": [
        "# funciones especiales\n",
        "print(np.sqrt(x))"
      ],
      "execution_count": 0,
      "outputs": [
        {
          "output_type": "stream",
          "text": [
            "[[1.         1.41421356]\n",
            " [1.73205081 2.        ]]\n"
          ],
          "name": "stdout"
        }
      ]
    },
    {
      "cell_type": "code",
      "metadata": {
        "id": "d-hVg_ZFZtPT",
        "colab_type": "code",
        "outputId": "335b2eab-7ec0-40e4-ab37-823e781fd1c4",
        "colab": {}
      },
      "source": [
        "# producto escalar\n",
        "\n",
        "x = np.array([[1, 2], [3, 4]])\n",
        "y = np.array([[5, 6], [7, 8]])\n",
        "\n",
        "v = np.array([9, 10])\n",
        "w = np.array([11, 12])\n",
        "\n",
        "print(v.dot(w))\n",
        "print(np.dot(v, w))"
      ],
      "execution_count": 0,
      "outputs": [
        {
          "output_type": "stream",
          "text": [
            "219\n",
            "219\n"
          ],
          "name": "stdout"
        }
      ]
    },
    {
      "cell_type": "code",
      "metadata": {
        "id": "nQoro2PBZtPV",
        "colab_type": "code",
        "outputId": "b672c66a-57ba-4d3b-8a08-f78b2771b82f",
        "colab": {}
      },
      "source": [
        "# multiplicacion de matrices\n",
        "print(x.shape, y.shape)\n",
        "\n",
        "print(np.dot(x, y))"
      ],
      "execution_count": 0,
      "outputs": [
        {
          "output_type": "stream",
          "text": [
            "((2, 2), (2, 2))\n",
            "[[19 22]\n",
            " [43 50]]\n"
          ],
          "name": "stdout"
        }
      ]
    },
    {
      "cell_type": "code",
      "metadata": {
        "id": "kCDWKGE9ZtPX",
        "colab_type": "code",
        "outputId": "6b75248e-5ffa-4355-ee22-84cb72f07089",
        "colab": {}
      },
      "source": [
        "print(x.dot(y))\n",
        "print(np.dot(x, y))"
      ],
      "execution_count": 0,
      "outputs": [
        {
          "output_type": "stream",
          "text": [
            "[[19 22]\n",
            " [43 50]]\n",
            "[[19 22]\n",
            " [43 50]]\n"
          ],
          "name": "stdout"
        }
      ]
    },
    {
      "cell_type": "code",
      "metadata": {
        "id": "z5DPUOjRZtPZ",
        "colab_type": "code",
        "outputId": "549787b0-0a10-47e0-a4b7-6bf53d9ca799",
        "colab": {}
      },
      "source": [
        "# reducción de matrices\n",
        "x = np.array([[1, 2], [3, 4]])\n",
        "print(x)\n",
        "print(np.sum(x))\n",
        "#print(np.sum(x, axis=0))\n",
        "print(np.sum(x, axis=1))"
      ],
      "execution_count": 0,
      "outputs": [
        {
          "output_type": "stream",
          "text": [
            "[[1 2]\n",
            " [3 4]]\n",
            "10\n",
            "[3 7]\n"
          ],
          "name": "stdout"
        }
      ]
    },
    {
      "cell_type": "code",
      "metadata": {
        "id": "cTLs03FoZtPe",
        "colab_type": "code",
        "outputId": "c1381cd2-f211-4181-fc70-4bd9819373b3",
        "colab": {}
      },
      "source": [
        "# matriz traspuesta\n",
        "x = np.array([[1, 2], [3, 4]])\n",
        "print(x)\n",
        "print(x.T)"
      ],
      "execution_count": 0,
      "outputs": [
        {
          "output_type": "stream",
          "text": [
            "[[1 2]\n",
            " [3 4]]\n",
            "[[1 3]\n",
            " [2 4]]\n"
          ],
          "name": "stdout"
        }
      ]
    },
    {
      "cell_type": "code",
      "metadata": {
        "id": "wi5ELhYgZtPi",
        "colab_type": "code",
        "outputId": "093e793f-1c2e-4bba-ae51-d6fa917c05b3",
        "colab": {}
      },
      "source": [
        "v = np.array([1, 2, 3])\n",
        "print(v)\n",
        "print(v.T)"
      ],
      "execution_count": 0,
      "outputs": [
        {
          "output_type": "stream",
          "text": [
            "[1 2 3]\n",
            "[1 2 3]\n"
          ],
          "name": "stdout"
        }
      ]
    },
    {
      "cell_type": "markdown",
      "metadata": {
        "id": "Um-QIoFkZtPm",
        "colab_type": "text"
      },
      "source": [
        "## Matplotlib"
      ]
    },
    {
      "cell_type": "markdown",
      "metadata": {
        "id": "dq91u7uGZtPm",
        "colab_type": "text"
      },
      "source": [
        "### Plotting"
      ]
    },
    {
      "cell_type": "code",
      "metadata": {
        "id": "LhNWTsnLZtPn",
        "colab_type": "code",
        "outputId": "fb0f0733-989c-4ac7-f72a-8521f5200257",
        "colab": {
          "base_uri": "https://localhost:8080/",
          "height": 286
        }
      },
      "source": [
        "import matplotlib.pyplot as plt\n",
        "%matplotlib inline\n",
        "\n",
        "x = np.arange(0, 4 * np.pi, 0.1)\n",
        "y = np.cos(x)\n",
        "\n",
        "plt.plot(x, y)\n"
      ],
      "execution_count": 4,
      "outputs": [
        {
          "output_type": "execute_result",
          "data": {
            "text/plain": [
              "[<matplotlib.lines.Line2D at 0x7f7c03cd7250>]"
            ]
          },
          "metadata": {
            "tags": []
          },
          "execution_count": 4
        },
        {
          "output_type": "display_data",
          "data": {
            "image/png": "[encoded data removed]",
            "text/plain": [
              "<Figure size 432x288 with 1 Axes>"
            ]
          },
          "metadata": {
            "tags": []
          }
        }
      ]
    },
    {
      "cell_type": "code",
      "metadata": {
        "id": "phGT-nXhZtPp",
        "colab_type": "code",
        "outputId": "106383a2-4676-4177-b74b-e6e99c174d8e",
        "colab": {}
      },
      "source": [
        "x = np.arange(0, 3 * np.pi, 0.1)\n",
        "y_sin = np.sin(x)\n",
        "y_cos = np.cos(x)\n",
        "\n",
        "plt.plot(x, y_sin)\n",
        "plt.plot(x, y_cos)\n",
        "plt.xlabel('x axis label')\n",
        "plt.ylabel('y axis label')\n",
        "plt.title('Sine and Cosine')\n",
        "plt.legend(['Sine', 'Cosine'])\n",
        "plt.show()"
      ],
      "execution_count": 0,
      "outputs": [
        {
          "output_type": "display_data",
          "data": {
            "image/png": "[encoded data removed]",
            "text/plain": [
              "<matplotlib.figure.Figure at 0x7f2d8ad52610>"
            ]
          },
          "metadata": {
            "tags": []
          }
        }
      ]
    },
    {
      "cell_type": "markdown",
      "metadata": {
        "id": "3aPORyL3ZtPr",
        "colab_type": "text"
      },
      "source": [
        "### Subplots"
      ]
    },
    {
      "cell_type": "code",
      "metadata": {
        "id": "ikhm58pKZtPr",
        "colab_type": "code",
        "outputId": "0734e40d-a290-4544-cf63-315a067270c1",
        "colab": {}
      },
      "source": [
        "x = np.arange(0, 3 * np.pi, 0.1)\n",
        "y_sin = np.sin(x)\n",
        "y_cos = np.cos(x)\n",
        "\n",
        "plt.subplot(1, 2, 1)\n",
        "plt.plot(x, y_sin)\n",
        "plt.title('Sine')\n",
        "\n",
        "plt.subplot(1, 2, 2)\n",
        "plt.plot(x, y_cos)\n",
        "plt.title('Cosine')\n",
        "plt.show()"
      ],
      "execution_count": 0,
      "outputs": [
        {
          "output_type": "display_data",
          "data": {
            "image/png": "[encoded data removed]",
            "text/plain": [
              "<matplotlib.figure.Figure at 0x7f986ccb2890>"
            ]
          },
          "metadata": {
            "tags": []
          }
        }
      ]
    },
    {
      "cell_type": "code",
      "metadata": {
        "id": "z8j-8kW6ZtPt",
        "colab_type": "code",
        "outputId": "304733e6-cee5-432b-fdcf-6412444d3395",
        "colab": {}
      },
      "source": [
        "x = np.array([[1, 2, 3], [4, 5, 6], [7, 8, 9]])\n",
        "d = np.linalg.eigvalsh(x)\n",
        "print(d)"
      ],
      "execution_count": 0,
      "outputs": [
        {
          "output_type": "stream",
          "text": [
            "[-3.15746784 -0.67276795 18.8302358 ]\n"
          ],
          "name": "stdout"
        }
      ]
    },
    {
      "cell_type": "markdown",
      "metadata": {
        "id": "puNZN36tZtPx",
        "colab_type": "text"
      },
      "source": [
        "## Notas finales\n",
        "Numpy reemplaza gran parte de la funcionalidad del lenguaje de programación de MATLAB para la manipulación de arrays multidimensionales y la vectorización de operaciones. Sin embargo, la ventaja de numpy es que cuenta con la gran popularidad y capacidad de python con el cual podemos crear desde aplicaciones web hasta sistemas de inteligencia artificial.\n",
        "Para las personas que tienen un background de MATLAB se puede consultar este [cheatsheet](http://mathesaurus.sourceforge.net/matlab-numpy.html)\n",
        "con equivalencias en funciones y operaciones.\n"
      ]
    },
    {
      "cell_type": "code",
      "metadata": {
        "id": "K8_crSBMZtPx",
        "colab_type": "code",
        "colab": {}
      },
      "source": [
        ""
      ],
      "execution_count": 0,
      "outputs": []
    }
  ]
}